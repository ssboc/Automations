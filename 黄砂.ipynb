{
 "cells": [
  {
   "cell_type": "code",
   "execution_count": 1,
   "source": [
    "import requests\r\n",
    "from bs4 import BeautifulSoup\r\n",
    "import re\r\n",
    "import pickle\r\n",
    "import pandas as pd"
   ],
   "outputs": [],
   "metadata": {}
  },
  {
   "cell_type": "code",
   "execution_count": 16,
   "source": [
    "url = \"https://china-pm25.com/area/hokkaido/\"\r\n",
    "html = requests.get(url)"
   ],
   "outputs": [],
   "metadata": {}
  },
  {
   "cell_type": "code",
   "execution_count": 17,
   "source": [
    "html.encoding = 'utf-8'"
   ],
   "outputs": [],
   "metadata": {}
  },
  {
   "cell_type": "code",
   "execution_count": 40,
   "source": [
    "table1 = soup = BeautifulSoup(html.text, 'html.parser')"
   ],
   "outputs": [],
   "metadata": {}
  },
  {
   "cell_type": "code",
   "execution_count": 41,
   "source": [
    "rows1 = soup.find_all(\"table\", attrs={\"class\":\"fable\"})[0].find_all(\"tr\")"
   ],
   "outputs": [],
   "metadata": {}
  },
  {
   "cell_type": "code",
   "execution_count": 44,
   "source": [
    "rows1[0]"
   ],
   "outputs": [
    {
     "output_type": "execute_result",
     "data": {
      "text/plain": [
       "<tr><th colspan=\"2\" height=\"20\"></th> <th colspan=\"3\" height=\"20\">今日（8月12日）</th> <th height=\"20\" width=\"30\"></th> <th colspan=\"4\" height=\"20\">明日（8月13日）</th></tr>"
      ]
     },
     "metadata": {},
     "execution_count": 44
    }
   ],
   "metadata": {}
  },
  {
   "cell_type": "code",
   "execution_count": 48,
   "source": [
    "rows1[1].find_all(\"th\")"
   ],
   "outputs": [
    {
     "output_type": "execute_result",
     "data": {
      "text/plain": [
       "[<th align=\"right\" colspan=\"2\" height=\"20\">時間帯（時）</th>,\n",
       " <th height=\"20\" width=\"90\">6-12</th>,\n",
       " <th height=\"20\" width=\"90\">12-18</th>,\n",
       " <th height=\"20\" width=\"90\">18-24</th>,\n",
       " <th height=\"20\" width=\"30\"></th>,\n",
       " <th height=\"20\" width=\"90\">0-6</th>,\n",
       " <th height=\"20\" width=\"90\">6-12</th>,\n",
       " <th height=\"20\" width=\"90\">12-18</th>,\n",
       " <th height=\"20\" width=\"90\">18-24</th>]"
      ]
     },
     "metadata": {},
     "execution_count": 48
    }
   ],
   "metadata": {}
  },
  {
   "cell_type": "code",
   "execution_count": 47,
   "source": [
    "rows1[2].find_all(\"th\")"
   ],
   "outputs": [
    {
     "output_type": "execute_result",
     "data": {
      "text/plain": [
       "[<th rowspan=\"2\" width=\"100\">北海道央</th>,\n",
       " <th height=\"20\" width=\"50\">PM2.5</th>,\n",
       " <th class=\"color1\" height=\"20\" width=\"90\">少ない</th>,\n",
       " <th class=\"color1\" height=\"20\" width=\"90\">少ない</th>,\n",
       " <th class=\"color1\" height=\"20\" width=\"90\">少ない</th>,\n",
       " <th height=\"20\" width=\"30\"></th>,\n",
       " <th class=\"color1\" height=\"20\" width=\"90\">少ない</th>,\n",
       " <th class=\"color1\" height=\"20\" width=\"90\">少ない</th>,\n",
       " <th class=\"color1\" height=\"20\" width=\"90\">少ない</th>,\n",
       " <th class=\"color1\" height=\"20\" width=\"90\">少ない</th>]"
      ]
     },
     "metadata": {},
     "execution_count": 47
    }
   ],
   "metadata": {}
  },
  {
   "cell_type": "code",
   "execution_count": 51,
   "source": [
    "columns = [v.text for v in rows1[0].find_all(\"th\")]"
   ],
   "outputs": [],
   "metadata": {}
  },
  {
   "cell_type": "code",
   "execution_count": 52,
   "source": [
    "columns"
   ],
   "outputs": [
    {
     "output_type": "execute_result",
     "data": {
      "text/plain": [
       "['', '今日（8月12日）', '', '明日（8月13日）']"
      ]
     },
     "metadata": {},
     "execution_count": 52
    }
   ],
   "metadata": {}
  },
  {
   "cell_type": "code",
   "execution_count": null,
   "source": [],
   "outputs": [],
   "metadata": {}
  }
 ],
 "metadata": {
  "orig_nbformat": 4,
  "language_info": {
   "name": "python",
   "version": "3.8.8",
   "mimetype": "text/x-python",
   "codemirror_mode": {
    "name": "ipython",
    "version": 3
   },
   "pygments_lexer": "ipython3",
   "nbconvert_exporter": "python",
   "file_extension": ".py"
  },
  "kernelspec": {
   "name": "python3",
   "display_name": "Python 3.8.8 64-bit ('base': conda)"
  },
  "interpreter": {
   "hash": "65498ccaef5af00d11c7ed37ac163a9d07454f539c6e1873b386c49a8870882c"
  }
 },
 "nbformat": 4,
 "nbformat_minor": 2
}