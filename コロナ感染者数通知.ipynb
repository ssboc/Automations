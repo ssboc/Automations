{
 "cells": [
  {
   "cell_type": "code",
   "execution_count": 1,
   "source": [
    "import requests\r\n",
    "from bs4 import BeautifulSoup\r\n",
    "import re\r\n",
    "import pickle\r\n",
    "import pandas as pd"
   ],
   "outputs": [],
   "metadata": {}
  },
  {
   "cell_type": "code",
   "execution_count": 2,
   "source": [
    "url = 'https://www.city.sapporo.jp/hokenjo/f1kansen/2019n-covhassei.html'\r\n",
    "html = requests.get(url)\r\n",
    "html.encoding = 'utf-8'\r\n",
    "soup = BeautifulSoup(html.text, 'html.parser')\r\n",
    "\r\n",
    "number_list = soup.find('p', attrs={'align':'center'}).find('span').text\r\n",
    "number = re.findall(r'\\w+',number_list)[0]\r\n",
    "\r\n",
    "updated_day = soup.find('p', attrs={'id':'tmp_update'}).text.lstrip('更新日2021年：')"
   ],
   "outputs": [],
   "metadata": {}
  },
  {
   "cell_type": "code",
   "execution_count": 9,
   "source": [
    "updated_days = []\r\n",
    "updated_days.append(updated_day)\r\n",
    "numbers = []\r\n",
    "numbers.append(number)\r\n",
    "\r\n",
    "contents = f'{updated_day}の感染者数は{number}です。'\r\n",
    "\r\n",
    "with open('numbers.binryfile', 'wb') as f:\r\n",
    "    pickle.dump(numbers, f)\r\n",
    "with open('updated_days.binryfile', 'wb') as f:\r\n",
    "    pickle.dump(updated_days, f)"
   ],
   "outputs": [],
   "metadata": {}
  },
  {
   "cell_type": "code",
   "execution_count": null,
   "source": [],
   "outputs": [],
   "metadata": {}
  }
 ],
 "metadata": {
  "orig_nbformat": 4,
  "language_info": {
   "name": "python",
   "version": "3.8.8",
   "mimetype": "text/x-python",
   "codemirror_mode": {
    "name": "ipython",
    "version": 3
   },
   "pygments_lexer": "ipython3",
   "nbconvert_exporter": "python",
   "file_extension": ".py"
  },
  "kernelspec": {
   "name": "python3",
   "display_name": "Python 3.8.8 64-bit ('base': conda)"
  },
  "interpreter": {
   "hash": "65498ccaef5af00d11c7ed37ac163a9d07454f539c6e1873b386c49a8870882c"
  }
 },
 "nbformat": 4,
 "nbformat_minor": 2
}